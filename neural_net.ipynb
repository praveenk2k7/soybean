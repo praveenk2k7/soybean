{
 "cells": [
  {
   "cell_type": "code",
   "execution_count": 1,
   "metadata": {},
   "outputs": [],
   "source": [
    "import numpy as np \n",
    "import matplotlib.pyplot as plt \n",
    "import cv2\n",
    "import glob\n",
    "\n",
    "# This is a bit of magic to make matplotlib figures appear inline in the notebook\n",
    "# rather than in a new window.\n",
    "%matplotlib inline\n",
    "plt.rcParams['figure.figsize'] = (19.0, 17.0) # set default size of plots\n",
    "plt.rcParams['image.interpolation'] = 'nearest'\n",
    "plt.rcParams['image.cmap'] = 'gray'\n",
    "\n",
    "# Some more magic so that the notebook will reload external python modules;\n",
    "# see http://stackoverflow.com/questions/1907993/autoreload-of-modules-in-ipython\n",
    "%load_ext autoreload\n",
    "%autoreload 2"
   ]
  },
  {
   "cell_type": "code",
   "execution_count": 2,
   "metadata": {},
   "outputs": [],
   "source": [
    "data_dir = r'data/'\n",
    "\n",
    "classes = ['broadleaf', 'grass', 'soil', 'soybean'] \n",
    "\n",
    "num_file = 1100 \n",
    "all_files = [] \n",
    "num_data =num_file*len(classes)\n",
    "Y = np.zeros(num_data)\n",
    "\n",
    "\n",
    "for i, cls in enumerate(classes):\n",
    "    all_files += [f for f in glob.glob(data_dir+cls+'/*.tif')][:num_file]\n",
    "    Y[i*num_file:(i+1)*num_file] = i # label all classes with int [0.. len(classes)]\n"
   ]
  },
  {
   "cell_type": "code",
   "execution_count": 3,
   "metadata": {},
   "outputs": [],
   "source": [
    "num_file=1100\n",
    "all_files=[]\n",
    "num_data =num_file*len(classes)\n",
    "Y = np.zeros(num_data)"
   ]
  },
  {
   "cell_type": "code",
   "execution_count": 4,
   "metadata": {},
   "outputs": [],
   "source": [
    "for i, cls in enumerate(classes):\n",
    "    all_files += [f for f in glob.glob(data_dir+cls+'/*.tif')][:num_file]\n",
    "    Y[i*num_file:(i+1)*num_file] = i # label all classes with int [0.. len(classes)]\n"
   ]
  },
  {
   "cell_type": "code",
   "execution_count": 5,
   "metadata": {},
   "outputs": [],
   "source": [
    "# Image dimension\n",
    "im_width = 230\n",
    "im_height = 230 \n",
    "im_channel = 3\n",
    "dim = im_width * im_height * im_channel"
   ]
  },
  {
   "cell_type": "code",
   "execution_count": 6,
   "metadata": {},
   "outputs": [],
   "source": [
    "X = np.ndarray(shape=(num_data, im_width, im_height, im_channel), dtype=np.uint8)\n",
    "\n",
    "for idx, file in enumerate(all_files):\n",
    "    X[idx] = cv2.resize(cv2.imread(file), (im_width, im_height))\n",
    "\n",
    "X_train = np.empty(shape=(4000,im_width, im_height, im_channel), dtype=np.uint8)\n",
    "X_val = np.empty(shape=(200,im_width, im_height, im_channel), dtype=np.uint8)\n",
    "X_test = np.empty(shape=(200,im_width, im_height, im_channel), dtype=np.uint8)\n",
    "\n",
    "y_train = np.empty(4000)\n",
    "y_val = np.empty(200)\n",
    "y_test = np.empty(200) \n",
    "\n",
    "for i, cls in enumerate(classes): \n",
    "    X_test[50*i:50*(i+1)] = X[np.where(Y == i)[0][:50]]\n",
    "    X_val[50*i:50*(i+1)] = X[np.where(Y == i)[0][50:100]]\n",
    "    X_train[1000*i:1000*(i+1)] = X[np.where(Y == i)[0][100:]]\n",
    "    \n",
    "    y_test[50*i:50*(i+1)] = i\n",
    "    y_val[50*i:50*(i+1)] = i\n",
    "    y_train[1000*i:1000*(i+1)] = i\n",
    "    \n",
    "del Y \n",
    "del X\n"
   ]
  },
  {
   "cell_type": "code",
   "execution_count": 7,
   "metadata": {},
   "outputs": [],
   "source": [
    "def color_space_transform(imgs, space=['hsv','cive','exg','exr']):\n",
    "    '''\n",
    "    imgs: N inputs image shape (N, D0, D1, D2,..)\n",
    "    space: list of transformation that will be compute and return. \n",
    "    return result = {} \n",
    "    '''\n",
    "    available_space = ['hsv','cive','exg','exr']\n",
    "    for s in space: \n",
    "        if(s not in available_space): \n",
    "            print(s+'is not available')\n",
    "            quit()\n",
    "    N = imgs.shape[0] if len(imgs.shape) == 4 else 1\n",
    "    if(N == 1): imgs = np.reshape(imgs, (1,imgs.shape[0],imgs.shape[1], imgs.shape[2]))\n",
    "        \n",
    "    imgs = imgs.astype('float32')\n",
    "    result = {} \n",
    "    #create  memory\n",
    "    for s in space:\n",
    "        if(s == \"hsv\"): result[s] = np.zeros(imgs.shape,dtype='float32')\n",
    "        else: result[s] = np.zeros((N, imgs.shape[1], imgs.shape[2]),dtype='float32')\n",
    "    \n",
    "    for i in range(N):\n",
    "        for s in space:\n",
    "            if(s == 'hsv'):\n",
    "                result[s][i] = cv2.cvtColor(imgs[i], cv2.COLOR_BGR2HSV)\n",
    "            elif(s == 'cive'):\n",
    "                p_blue, p_green, p_red= cv2.split(imgs[i]) # For BGR image # For RGB image\n",
    "                result[s][i] = 0.881*p_green + 0.441*p_red + 0.385*p_blue - 18.78745\n",
    "            elif(s == 'exg'):\n",
    "                p_blue, p_green, p_red= cv2.split(imgs[i]) # For BGR image # For RGB image\n",
    "                result[s][i] = 2 * p_green - p_red - p_blue\n",
    "            elif(s == 'exr'):\n",
    "                 p_blue, p_green, p_red= cv2.split(imgs[i]) # For BGR image # For RGB image\n",
    "                 result[s][i] = 1.4 * p_red - p_green\n",
    "    return result"
   ]
  },
  {
   "cell_type": "code",
   "execution_count": null,
   "metadata": {},
   "outputs": [],
   "source": [
    "# Convert to Hsv and cive for example \n",
    "X_transform = color_space_transform(X_train[0:4000], space=['hsv','cive','exg','exr'])\n",
    "\n",
    "#And plot to visualize some \n",
    "# Visualize some images \n",
    "# Make sure that everything when OK\n",
    "classes = ['broadleaf', 'grass', 'soil', 'soybean']\n",
    "n_class = len(classes)\n",
    "samples_per_class = 4\n",
    "\n",
    "print(\"HSV color space\")\n",
    "for y, cls in enumerate(classes):\n",
    "    idxes = np.flatnonzero(y == y_train[0:4000])\n",
    "    idxes = np.random.choice(idxes, samples_per_class, replace = False)\n",
    "    for i, idx in enumerate(idxes):\n",
    "        plt_idx = i * n_class + y + 1\n",
    "        plt.subplot(samples_per_class,n_class, plt_idx)\n",
    "        plt.imshow(X_transform['hsv'][idx])\n",
    "        if(i==0): plt.title(cls)\n",
    "\n",
    "plt.show()"
   ]
  },
  {
   "cell_type": "code",
   "execution_count": null,
   "metadata": {},
   "outputs": [],
   "source": []
  }
 ],
 "metadata": {
  "kernelspec": {
   "display_name": "Python 3",
   "language": "python",
   "name": "python3"
  },
  "language_info": {
   "codemirror_mode": {
    "name": "ipython",
    "version": 3
   },
   "file_extension": ".py",
   "mimetype": "text/x-python",
   "name": "python",
   "nbconvert_exporter": "python",
   "pygments_lexer": "ipython3",
   "version": "3.7.3"
  }
 },
 "nbformat": 4,
 "nbformat_minor": 2
}
